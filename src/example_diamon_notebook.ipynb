{
 "cells": [
  {
   "cell_type": "code",
   "execution_count": 1,
   "metadata": {},
   "outputs": [],
   "source": [
    "import main"
   ]
  },
  {
   "cell_type": "code",
   "execution_count": 2,
   "metadata": {},
   "outputs": [],
   "source": [
    "data_dict = main.main()\n",
    "data = data_dict[\"all_data\"]\n",
    "beam_df = data_dict[\"df\"]\n",
    "open_shutters = data_dict[\"open_shutter\"]\n",
    "closed_shutters = data_dict[\"closed_shutter\"]"
   ]
  }
 ],
 "metadata": {
  "kernelspec": {
   "display_name": "venv",
   "language": "python",
   "name": "python3"
  },
  "language_info": {
   "codemirror_mode": {
    "name": "ipython",
    "version": 3
   },
   "file_extension": ".py",
   "mimetype": "text/x-python",
   "name": "python",
   "nbconvert_exporter": "python",
   "pygments_lexer": "ipython3",
   "version": "3.10.9"
  },
  "orig_nbformat": 4,
  "vscode": {
   "interpreter": {
    "hash": "ae02b3421e3ef2d61e995806d539d9dd0d00c8198d2acef78eff576046f1b362"
   }
  }
 },
 "nbformat": 4,
 "nbformat_minor": 2
}
